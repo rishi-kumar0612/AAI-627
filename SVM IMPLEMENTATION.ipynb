{
 "cells": [
  {
   "cell_type": "markdown",
   "id": "48e7992b",
   "metadata": {},
   "source": [
    "NAME: RISHI KUMAR\n",
    "\n",
    "CWID -20015656\n",
    "\n",
    "#### Q2)Using Matlab (or another tool), build/run/demo an SVM example ####  "
   ]
  },
  {
   "cell_type": "markdown",
   "id": "c4e7f86a",
   "metadata": {},
   "source": [
    "# importing libraries"
   ]
  },
  {
   "cell_type": "code",
   "execution_count": 1,
   "id": "a43f1c51",
   "metadata": {},
   "outputs": [],
   "source": [
    "import numpy as np\n",
    "import pandas as pd\n",
    "import matplotlib.pyplot as plt\n",
    "import seaborn as sbn"
   ]
  },
  {
   "cell_type": "markdown",
   "id": "9390dd31",
   "metadata": {},
   "source": [
    "# finding current directory"
   ]
  },
  {
   "cell_type": "code",
   "execution_count": 2,
   "id": "293163cf",
   "metadata": {},
   "outputs": [
    {
     "data": {
      "text/plain": [
       "'C:\\\\Users\\\\Rishi'"
      ]
     },
     "execution_count": 2,
     "metadata": {},
     "output_type": "execute_result"
    }
   ],
   "source": [
    "pwd"
   ]
  },
  {
   "cell_type": "markdown",
   "id": "f9f00a9c",
   "metadata": {},
   "source": [
    "# creating a dataframe out of csv"
   ]
  },
  {
   "cell_type": "code",
   "execution_count": 3,
   "id": "c4f7881f",
   "metadata": {},
   "outputs": [
    {
     "data": {
      "text/plain": [
       "2    458\n",
       "4    241\n",
       "Name: Class, dtype: int64"
      ]
     },
     "execution_count": 3,
     "metadata": {},
     "output_type": "execute_result"
    }
   ],
   "source": [
    "dataframe = pd.read_csv('C:\\\\Users\\\\Rishi\\\\Downloads\\\\cell_samples.csv')\n",
    "dataframe.shape\n",
    "dataframe.size\n",
    "dataframe.count()\n",
    "dataframe['Class'].value_counts()"
   ]
  },
  {
   "cell_type": "markdown",
   "id": "9811a444",
   "metadata": {},
   "source": [
    "# distinguishing classes and plotting them "
   ]
  },
  {
   "cell_type": "code",
   "execution_count": 4,
   "id": "82a1e90f",
   "metadata": {},
   "outputs": [
    {
     "data": {
      "text/plain": [
       "<AxesSubplot:xlabel='Clump', ylabel='UnifSize'>"
      ]
     },
     "execution_count": 4,
     "metadata": {},
     "output_type": "execute_result"
    },
    {
     "data": {
      "image/png": "[encoded data removed]",
      "text/plain": [
       "<Figure size 432x288 with 1 Axes>"
      ]
     },
     "metadata": {
      "needs_background": "light"
     },
     "output_type": "display_data"
    }
   ],
   "source": [
    "benign_df = dataframe[dataframe['Class']==2][0:200]\n",
    "malignent_df = dataframe[dataframe['Class']==4][0:200]\n",
    "\n",
    "axes= benign_df.plot(kind='scatter', x='Clump', y='UnifSize', color='blue', label='Benign')\n",
    "malignent_df.plot(kind='scatter', x='Clump', y='UnifSize', color='red', label='malignent', ax=axes)"
   ]
  },
  {
   "cell_type": "markdown",
   "id": "c30607fb",
   "metadata": {},
   "source": [
    "# transforming object into int value "
   ]
  },
  {
   "cell_type": "code",
   "execution_count": 5,
   "id": "493f871b",
   "metadata": {},
   "outputs": [
    {
     "data": {
      "text/plain": [
       "ID             int64\n",
       "Clump          int64\n",
       "UnifSize       int64\n",
       "UnifShape      int64\n",
       "MargAdh        int64\n",
       "SingEpiSize    int64\n",
       "BareNuc        int32\n",
       "BlandChrom     int64\n",
       "NormNucl       int64\n",
       "Mit            int64\n",
       "Class          int64\n",
       "dtype: object"
      ]
     },
     "execution_count": 5,
     "metadata": {},
     "output_type": "execute_result"
    }
   ],
   "source": [
    "dataframe.dtypes\n",
    "dataframe = dataframe[pd.to_numeric(dataframe['BareNuc'], errors='coerce').notnull()]\n",
    "dataframe['BareNuc'] = dataframe['BareNuc'].astype('int')\n",
    "dataframe.dtypes"
   ]
  },
  {
   "cell_type": "markdown",
   "id": "55ea68f9",
   "metadata": {},
   "source": [
    "# splitting the dataframe into attributes and outcomes"
   ]
  },
  {
   "cell_type": "code",
   "execution_count": 6,
   "id": "567c4397",
   "metadata": {},
   "outputs": [],
   "source": [
    "dataframe.columns\n",
    "attribute_set= dataframe[['Clump', 'UnifSize', 'UnifShape', 'MargAdh', 'SingEpiSize','BareNuc', 'BlandChrom', 'NormNucl', 'Mit']]\n",
    "\n",
    "X = np.asarray(attribute_set)\n",
    "\n",
    "Y = np.asarray(dataframe['Class'])\n"
   ]
  },
  {
   "cell_type": "markdown",
   "id": "a0ae0526",
   "metadata": {},
   "source": [
    "# creating training and testing data"
   ]
  },
  {
   "cell_type": "code",
   "execution_count": 7,
   "id": "77add6d0",
   "metadata": {},
   "outputs": [],
   "source": [
    "from sklearn.model_selection import train_test_split\n",
    "X_train,X_test,Y_train,Y_test= train_test_split(X,Y,test_size=0.3, random_state=16)\n"
   ]
  },
  {
   "cell_type": "markdown",
   "id": "25df1ae1",
   "metadata": {},
   "source": [
    "# implemeting svm"
   ]
  },
  {
   "cell_type": "code",
   "execution_count": 8,
   "id": "f0b4fff6",
   "metadata": {},
   "outputs": [],
   "source": [
    "from sklearn import svm\n",
    "\n",
    "classifier = svm.SVC(kernel='linear', gamma='auto', C=2)\n",
    "classifier.fit(X_train,Y_train)\n",
    "Y_predict = classifier.predict(X_test)"
   ]
  },
  {
   "cell_type": "markdown",
   "id": "bd70fbba",
   "metadata": {},
   "source": [
    "# evaluation results"
   ]
  },
  {
   "cell_type": "code",
   "execution_count": 9,
   "id": "05509e52",
   "metadata": {},
   "outputs": [
    {
     "name": "stdout",
     "output_type": "stream",
     "text": [
      "              precision    recall  f1-score   support\n",
      "\n",
      "           2       0.99      0.96      0.97       139\n",
      "           4       0.91      0.97      0.94        66\n",
      "\n",
      "    accuracy                           0.96       205\n",
      "   macro avg       0.95      0.96      0.96       205\n",
      "weighted avg       0.96      0.96      0.96       205\n",
      "\n"
     ]
    }
   ],
   "source": [
    "from sklearn.metrics import classification_report\n",
    "\n",
    "print(classification_report(Y_test,Y_predict))"
   ]
  },
  {
   "cell_type": "code",
   "execution_count": null,
   "id": "81303ef4",
   "metadata": {},
   "outputs": [],
   "source": []
  }
 ],
 "metadata": {
  "kernelspec": {
   "display_name": "Python 3 (ipykernel)",
   "language": "python",
   "name": "python3"
  },
  "language_info": {
   "codemirror_mode": {
    "name": "ipython",
    "version": 3
   },
   "file_extension": ".py",
   "mimetype": "text/x-python",
   "name": "python",
   "nbconvert_exporter": "python",
   "pygments_lexer": "ipython3",
   "version": "3.9.12"
  }
 },
 "nbformat": 4,
 "nbformat_minor": 5
}
